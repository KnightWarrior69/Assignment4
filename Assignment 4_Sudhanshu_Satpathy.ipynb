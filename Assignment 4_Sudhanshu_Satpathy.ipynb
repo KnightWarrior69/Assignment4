{
 "cells": [
  {
   "cell_type": "markdown",
   "id": "a194c42a-e5b6-4b85-9a42-f03e9d97466e",
   "metadata": {},
   "source": [
    "# Basic If-Else Statements:\n"
   ]
  },
  {
   "cell_type": "markdown",
   "id": "ca08ffee-7a88-4b2a-a399-ce6351b85852",
   "metadata": {},
   "source": [
    "\n",
    "1. Write a Python program to check if a given number is positive or negative.\n"
   ]
  },
  {
   "cell_type": "code",
   "execution_count": 3,
   "id": "fd18c66a-90f8-4cc3-a210-33951cf154b3",
   "metadata": {},
   "outputs": [],
   "source": [
    "def checknum():\n",
    "    \n",
    "    try:\n",
    "        \n",
    "        n = int(input('Enter a number'))\n",
    "        if n>0:\n",
    "            print(f'the number {n} is positive')\n",
    "        elif n == 0:\n",
    "            print(f'the number {n} is neither positive nor negative')\n",
    "        else:\n",
    "            print(f' the number {n} is a negative')\n",
    "    \n",
    "    except Exception as e:\n",
    "        print(e)\n",
    "            "
   ]
  },
  {
   "cell_type": "code",
   "execution_count": 5,
   "id": "f56b7e1b-1dad-4d6e-b9fb-e4bf7f3693c9",
   "metadata": {},
   "outputs": [
    {
     "name": "stdin",
     "output_type": "stream",
     "text": [
      "Enter a number 0\n"
     ]
    },
    {
     "name": "stdout",
     "output_type": "stream",
     "text": [
      "the number 0 is neither positive nor negative\n"
     ]
    }
   ],
   "source": [
    "checknum()"
   ]
  },
  {
   "cell_type": "code",
   "execution_count": 6,
   "id": "d6f336b2-1a8b-4d3c-9e58-de4fd8474d3f",
   "metadata": {},
   "outputs": [
    {
     "name": "stdin",
     "output_type": "stream",
     "text": [
      "Enter a number 5\n"
     ]
    },
    {
     "name": "stdout",
     "output_type": "stream",
     "text": [
      "the number 5 is positive\n"
     ]
    }
   ],
   "source": [
    "checknum()"
   ]
  },
  {
   "cell_type": "code",
   "execution_count": 9,
   "id": "bfd2a638-1df9-4696-b06d-e48015812750",
   "metadata": {},
   "outputs": [
    {
     "name": "stdin",
     "output_type": "stream",
     "text": [
      "Enter a number -9\n"
     ]
    },
    {
     "name": "stdout",
     "output_type": "stream",
     "text": [
      " the number -9 is a negative\n"
     ]
    }
   ],
   "source": [
    "checknum()\n"
   ]
  },
  {
   "cell_type": "code",
   "execution_count": 8,
   "id": "73346179-addd-48cc-aecf-95ee76a234a5",
   "metadata": {},
   "outputs": [
    {
     "name": "stdin",
     "output_type": "stream",
     "text": [
      "Enter a number a\n"
     ]
    },
    {
     "name": "stdout",
     "output_type": "stream",
     "text": [
      "invalid literal for int() with base 10: 'a'\n"
     ]
    }
   ],
   "source": [
    "checknum()"
   ]
  },
  {
   "cell_type": "markdown",
   "id": "f1ba87b4-1a1b-43d8-af57-6fc8908194f0",
   "metadata": {},
   "source": [
    "2. Create a program that determines if a person is eligible to vote based on their age.\n"
   ]
  },
  {
   "cell_type": "code",
   "execution_count": 10,
   "id": "9b09b8b9-c0b6-48b7-960c-0c194023ac5b",
   "metadata": {},
   "outputs": [],
   "source": [
    "def checkage(n):\n",
    "    \n",
    "    try:\n",
    "        \n",
    "        if n>=18:\n",
    "            print('the person is eligible to vote')\n",
    "        \n",
    "        else:\n",
    "            print('the person is not eligible to vote')\n",
    "    \n",
    "    except Exception as e:\n",
    "        print(e)"
   ]
  },
  {
   "cell_type": "code",
   "execution_count": 11,
   "id": "b848fb5e-55ba-428b-8a55-d82ccacca0e3",
   "metadata": {},
   "outputs": [
    {
     "name": "stdout",
     "output_type": "stream",
     "text": [
      "the person is not eligible to vote\n"
     ]
    }
   ],
   "source": [
    "checkage(5)\n"
   ]
  },
  {
   "cell_type": "code",
   "execution_count": 12,
   "id": "2c127416-dd37-49ca-ae13-9e78978946b4",
   "metadata": {},
   "outputs": [
    {
     "name": "stdout",
     "output_type": "stream",
     "text": [
      "the person is eligible to vote\n"
     ]
    }
   ],
   "source": [
    "checkage(18)"
   ]
  },
  {
   "cell_type": "code",
   "execution_count": 14,
   "id": "abd90a88-db06-439d-84dc-ff9c238c4493",
   "metadata": {},
   "outputs": [
    {
     "name": "stdout",
     "output_type": "stream",
     "text": [
      "'>=' not supported between instances of 'str' and 'int'\n"
     ]
    }
   ],
   "source": [
    "checkage('a')"
   ]
  },
  {
   "cell_type": "markdown",
   "id": "932c4c12-79e7-44ef-84dc-93beaa2ccda5",
   "metadata": {},
   "source": [
    "3. Develop a program to find the maximum of two numbers using if-else statements.\n"
   ]
  },
  {
   "cell_type": "code",
   "execution_count": 18,
   "id": "1f2af470-1edf-4c5d-a036-acdebbdfb779",
   "metadata": {},
   "outputs": [],
   "source": [
    "def findmax():\n",
    "    \n",
    "    try:\n",
    "        a = int(input('Enter the value of a'))\n",
    "        b = int(input('Enter the value of b'))\n",
    "    \n",
    "        if a>b:\n",
    "            print(f'The max number between {a} and {b} is {a}')\n",
    "        elif a==b:\n",
    "            print(f'Both the numbers {a} and {b} are equal')\n",
    "        else:\n",
    "            print(f'The max number between {a} and {b} is {b}')\n",
    "            \n",
    "    except Exception:\n",
    "        print('You have not entered a number')\n",
    "        "
   ]
  },
  {
   "cell_type": "code",
   "execution_count": 21,
   "id": "a04af23c-dccc-4344-aa3e-c1960d350ef3",
   "metadata": {},
   "outputs": [
    {
     "name": "stdin",
     "output_type": "stream",
     "text": [
      "Enter the value of a u\n"
     ]
    },
    {
     "name": "stdout",
     "output_type": "stream",
     "text": [
      "You have not entered a number\n"
     ]
    }
   ],
   "source": [
    "findmax()"
   ]
  },
  {
   "cell_type": "code",
   "execution_count": 22,
   "id": "aef47a66-b9b1-4bd4-aaf0-0881778e3c54",
   "metadata": {},
   "outputs": [
    {
     "name": "stdin",
     "output_type": "stream",
     "text": [
      "Enter the value of a 4\n",
      "Enter the value of b 6\n"
     ]
    },
    {
     "name": "stdout",
     "output_type": "stream",
     "text": [
      "The max number between 4 and 6 is 6\n"
     ]
    }
   ],
   "source": [
    "findmax()\n"
   ]
  },
  {
   "cell_type": "code",
   "execution_count": 24,
   "id": "566e0a9e-ab64-4767-801f-f1ec47148446",
   "metadata": {},
   "outputs": [
    {
     "name": "stdin",
     "output_type": "stream",
     "text": [
      "Enter the value of a 44\n",
      "Enter the value of b 22\n"
     ]
    },
    {
     "name": "stdout",
     "output_type": "stream",
     "text": [
      "The max number between 44 and 22 is 44\n"
     ]
    }
   ],
   "source": [
    "findmax()"
   ]
  },
  {
   "cell_type": "markdown",
   "id": "43fbe79f-0706-45cc-a02d-007d3718df56",
   "metadata": {},
   "source": [
    "4. Write a Python script to classify a given year as a leap year or not.\n"
   ]
  },
  {
   "cell_type": "code",
   "execution_count": 25,
   "id": "35008a6f-b663-4a71-ae0a-b4453eaca954",
   "metadata": {},
   "outputs": [],
   "source": [
    "def leap():\n",
    "    \n",
    "    try:\n",
    "        n = int(input('Enter an year'))\n",
    "    except Exception:\n",
    "        print('You have not entered a correct format of year')\n",
    "    else:\n",
    "        if n%400==0:\n",
    "            print(f'Year {n} is a leap year')\n",
    "        elif n%4 == 0 and n%100 != 0:\n",
    "            print(f'Year {n} is a leap year')\n",
    "        else:\n",
    "            print(f'Year {n} is not a leap year')\n",
    "    finally:\n",
    "        print('Have a good day')\n",
    "        \n",
    "        "
   ]
  },
  {
   "cell_type": "code",
   "execution_count": 26,
   "id": "d33057aa-96d8-40f5-846b-2a71d5c72218",
   "metadata": {},
   "outputs": [
    {
     "name": "stdin",
     "output_type": "stream",
     "text": [
      "Enter an year 1999\n"
     ]
    },
    {
     "name": "stdout",
     "output_type": "stream",
     "text": [
      "Year 1999 is not a leap year\n",
      "Have a good day\n"
     ]
    }
   ],
   "source": [
    "leap()"
   ]
  },
  {
   "cell_type": "code",
   "execution_count": 27,
   "id": "55118ab9-80e9-4044-8f0e-ee65411631c8",
   "metadata": {},
   "outputs": [
    {
     "name": "stdin",
     "output_type": "stream",
     "text": [
      "Enter an year 2000\n"
     ]
    },
    {
     "name": "stdout",
     "output_type": "stream",
     "text": [
      "Year 2000 is a leap year\n",
      "Have a good day\n"
     ]
    }
   ],
   "source": [
    "leap()"
   ]
  },
  {
   "cell_type": "code",
   "execution_count": 28,
   "id": "9ed518ad-ec22-4ee5-91b7-3def5b84fb7a",
   "metadata": {},
   "outputs": [
    {
     "name": "stdin",
     "output_type": "stream",
     "text": [
      "Enter an year 1000\n"
     ]
    },
    {
     "name": "stdout",
     "output_type": "stream",
     "text": [
      "Year 1000 is not a leap year\n",
      "Have a good day\n"
     ]
    }
   ],
   "source": [
    "leap()"
   ]
  },
  {
   "cell_type": "code",
   "execution_count": 29,
   "id": "953ae1df-a90f-4cc0-9578-e40d10184e29",
   "metadata": {},
   "outputs": [
    {
     "name": "stdin",
     "output_type": "stream",
     "text": [
      "Enter an year a\n"
     ]
    },
    {
     "name": "stdout",
     "output_type": "stream",
     "text": [
      "You have not entered a correct format of year\n",
      "Have a good day\n"
     ]
    }
   ],
   "source": [
    "leap()"
   ]
  },
  {
   "cell_type": "markdown",
   "id": "31c1a871-687c-406a-88c6-e4987cff6601",
   "metadata": {},
   "source": [
    "5. Create a program that checks whether a character is a vowel or a consonant.\n"
   ]
  },
  {
   "cell_type": "code",
   "execution_count": 37,
   "id": "4f001603-2be5-4f67-ad7e-6243b9d8076d",
   "metadata": {},
   "outputs": [],
   "source": [
    "def check_char():\n",
    "    \n",
    "    try:\n",
    "        char = input('Enter an alphabet')\n",
    "    except Exception:\n",
    "        print('You have not entered an alphabet')\n",
    "    else:\n",
    "        if char.lower() in ['a','e','i','o','u']:\n",
    "            print(f'The character \"{char}\" is a vowel')\n",
    "        elif char.isalpha() == False:\n",
    "            print('You have not entered an alphabet')\n",
    "        else:\n",
    "            print(f'The character \"{char}\" is a consonant')\n",
    "    finally:\n",
    "        print('Have a good day')"
   ]
  },
  {
   "cell_type": "code",
   "execution_count": 33,
   "id": "4b84200e-ee64-4612-82f6-f911cce2a436",
   "metadata": {},
   "outputs": [
    {
     "name": "stdin",
     "output_type": "stream",
     "text": [
      "Enter an alphabet c\n"
     ]
    },
    {
     "name": "stdout",
     "output_type": "stream",
     "text": [
      "The character \"c\" is a consonant\n",
      "Have a good day\n"
     ]
    }
   ],
   "source": [
    "check_char()"
   ]
  },
  {
   "cell_type": "code",
   "execution_count": 34,
   "id": "6aea5804-b0f5-41ba-87a6-cb4d7784fd9b",
   "metadata": {},
   "outputs": [
    {
     "name": "stdin",
     "output_type": "stream",
     "text": [
      "Enter an alphabet a\n"
     ]
    },
    {
     "name": "stdout",
     "output_type": "stream",
     "text": [
      "The character \"a\" is a vowel\n",
      "Have a good day\n"
     ]
    }
   ],
   "source": [
    "check_char()"
   ]
  },
  {
   "cell_type": "code",
   "execution_count": 35,
   "id": "7dafb01b-af55-4756-a39a-d7c539dd3002",
   "metadata": {},
   "outputs": [
    {
     "name": "stdin",
     "output_type": "stream",
     "text": [
      "Enter an alphabet A\n"
     ]
    },
    {
     "name": "stdout",
     "output_type": "stream",
     "text": [
      "The character \"A\" is a vowel\n",
      "Have a good day\n"
     ]
    }
   ],
   "source": [
    "check_char()"
   ]
  },
  {
   "cell_type": "code",
   "execution_count": 38,
   "id": "9bafb167-8b41-4057-8936-e5470bfc4e9a",
   "metadata": {},
   "outputs": [
    {
     "name": "stdin",
     "output_type": "stream",
     "text": [
      "Enter an alphabet 1\n"
     ]
    },
    {
     "name": "stdout",
     "output_type": "stream",
     "text": [
      "You have not entered an alphabet\n",
      "Have a good day\n"
     ]
    }
   ],
   "source": [
    "check_char()"
   ]
  },
  {
   "cell_type": "markdown",
   "id": "105179bf-ee89-428a-8e1c-af97b1ea3eb0",
   "metadata": {},
   "source": [
    "6. Implement a program to determine whether a given number is even or odd.\n"
   ]
  },
  {
   "cell_type": "code",
   "execution_count": 39,
   "id": "0c84a1d1-aaba-4c62-b85a-ab03a2fbd46c",
   "metadata": {},
   "outputs": [],
   "source": [
    "def checkEven():\n",
    "    \n",
    "    try:\n",
    "        \n",
    "        n = int(input('Enter a number'))\n",
    "        if n%2==0:\n",
    "            print(f'the number {n} is even')\n",
    "        else:\n",
    "            print(f' the number {n} is a odd')\n",
    "    \n",
    "    except Exception as e:\n",
    "        print(e)"
   ]
  },
  {
   "cell_type": "code",
   "execution_count": 40,
   "id": "64333fdc-c29e-462e-9753-3540a7897f88",
   "metadata": {},
   "outputs": [
    {
     "name": "stdin",
     "output_type": "stream",
     "text": [
      "Enter a number 5\n"
     ]
    },
    {
     "name": "stdout",
     "output_type": "stream",
     "text": [
      " the number 5 is a odd\n"
     ]
    }
   ],
   "source": [
    "checkEven()"
   ]
  },
  {
   "cell_type": "code",
   "execution_count": 41,
   "id": "168b1904-9f16-4c3b-9dcc-d77d2e124997",
   "metadata": {},
   "outputs": [
    {
     "name": "stdin",
     "output_type": "stream",
     "text": [
      "Enter a number 4\n"
     ]
    },
    {
     "name": "stdout",
     "output_type": "stream",
     "text": [
      "the number 4 is even\n"
     ]
    }
   ],
   "source": [
    "checkEven()"
   ]
  },
  {
   "cell_type": "code",
   "execution_count": 42,
   "id": "a378c289-342d-4a6a-bb9a-05509ad7a505",
   "metadata": {},
   "outputs": [
    {
     "name": "stdin",
     "output_type": "stream",
     "text": [
      "Enter a number a\n"
     ]
    },
    {
     "name": "stdout",
     "output_type": "stream",
     "text": [
      "invalid literal for int() with base 10: 'a'\n"
     ]
    }
   ],
   "source": [
    "checkEven()"
   ]
  },
  {
   "cell_type": "markdown",
   "id": "ddd6609e-4686-4f80-8ab4-f5e2db36eda7",
   "metadata": {},
   "source": [
    "7. Write a Python function to calculate the absolute value of a number without using the `abs()` function.\n"
   ]
  },
  {
   "cell_type": "code",
   "execution_count": 48,
   "id": "95035b65-3ac0-4ea2-9f40-8ba0b31c4c82",
   "metadata": {},
   "outputs": [],
   "source": [
    "def findAbs():\n",
    "    \n",
    "    try:\n",
    "        \n",
    "        n = float(input('Enter a number'))\n",
    "        if n>=0:\n",
    "            print(f'the absolute value of {n} is {n}')\n",
    "        else:\n",
    "            print(f'the absolute value of {n} is {n*-1} ')\n",
    "    \n",
    "    except Exception as e:\n",
    "        print('you have not entered a num')"
   ]
  },
  {
   "cell_type": "code",
   "execution_count": 44,
   "id": "df12da77-7086-4491-b235-c8eeb7aaa450",
   "metadata": {},
   "outputs": [
    {
     "name": "stdin",
     "output_type": "stream",
     "text": [
      "Enter a number 7\n"
     ]
    },
    {
     "name": "stdout",
     "output_type": "stream",
     "text": [
      "the absolute value of 7.0 is 7.0\n"
     ]
    }
   ],
   "source": [
    "findAbs()"
   ]
  },
  {
   "cell_type": "code",
   "execution_count": 45,
   "id": "f8b173d9-acee-4b69-b5ce-654336ea4d5f",
   "metadata": {},
   "outputs": [
    {
     "name": "stdin",
     "output_type": "stream",
     "text": [
      "Enter a number -8\n"
     ]
    },
    {
     "name": "stdout",
     "output_type": "stream",
     "text": [
      "the absolute value of -8.0 is 8.0 \n"
     ]
    }
   ],
   "source": [
    "findAbs()"
   ]
  },
  {
   "cell_type": "code",
   "execution_count": 49,
   "id": "043a1725-d15e-4f8d-9fff-8a9a8349b16d",
   "metadata": {},
   "outputs": [
    {
     "name": "stdin",
     "output_type": "stream",
     "text": [
      "Enter a number adas\n"
     ]
    },
    {
     "name": "stdout",
     "output_type": "stream",
     "text": [
      "you have not entered a num\n"
     ]
    }
   ],
   "source": [
    "findAbs()"
   ]
  },
  {
   "cell_type": "markdown",
   "id": "eecd773f-a445-43e2-83e2-0dd34e712154",
   "metadata": {},
   "source": [
    "8. Develop a program that determines the largest of three given numbers using if-else statements.\n"
   ]
  },
  {
   "cell_type": "code",
   "execution_count": 50,
   "id": "34f74c10-2872-4a87-8709-73a4100379d8",
   "metadata": {},
   "outputs": [],
   "source": [
    "def find_max():\n",
    "    \n",
    "    try:\n",
    "        a = int(input('Enter 1st num'))\n",
    "        b = int(input('Enter 2nd num'))\n",
    "        c = int(input('Enter 3rd num'))\n",
    "    except Exception:\n",
    "        print('You have not entered a num')\n",
    "        \n",
    "    else:\n",
    "        if a>=b and a>=c:\n",
    "            print(f'{a} is the largest')\n",
    "        elif b>=a and b>=c:\n",
    "            print(f'{b} is the largest')\n",
    "        else:\n",
    "            print(f'{c} is the largest')\n",
    "    finally:\n",
    "        print('Have a good day')\n",
    "            \n",
    "        \n",
    "    \n",
    "        "
   ]
  },
  {
   "cell_type": "code",
   "execution_count": 51,
   "id": "ce03cc8c-23ce-4d24-9f39-9cb2ae48f856",
   "metadata": {},
   "outputs": [
    {
     "name": "stdin",
     "output_type": "stream",
     "text": [
      "Enter 1st num 4\n",
      "Enter 2nd num 5\n",
      "Enter 3rd num 6\n"
     ]
    },
    {
     "name": "stdout",
     "output_type": "stream",
     "text": [
      "6 is the largest\n",
      "Have a good day\n"
     ]
    }
   ],
   "source": [
    "find_max()"
   ]
  },
  {
   "cell_type": "code",
   "execution_count": 52,
   "id": "c4152198-d93d-431e-b2bf-171a64280094",
   "metadata": {},
   "outputs": [
    {
     "name": "stdin",
     "output_type": "stream",
     "text": [
      "Enter 1st num 4\n",
      "Enter 2nd num 5\n",
      "Enter 3rd num 5\n"
     ]
    },
    {
     "name": "stdout",
     "output_type": "stream",
     "text": [
      "5 is the largest\n",
      "Have a good day\n"
     ]
    }
   ],
   "source": [
    "find_max()"
   ]
  },
  {
   "cell_type": "code",
   "execution_count": 53,
   "id": "48067f2f-1283-480b-a268-ccf6ae72c47f",
   "metadata": {},
   "outputs": [
    {
     "name": "stdin",
     "output_type": "stream",
     "text": [
      "Enter 1st num a\n"
     ]
    },
    {
     "name": "stdout",
     "output_type": "stream",
     "text": [
      "You have not entered a num\n",
      "Have a good day\n"
     ]
    }
   ],
   "source": [
    "find_max()"
   ]
  },
  {
   "cell_type": "markdown",
   "id": "33e3d180-aad5-4204-b70f-e4cf74b50f8f",
   "metadata": {},
   "source": [
    "9. Create a program that checks if a given string is a palindrome.\n"
   ]
  },
  {
   "cell_type": "code",
   "execution_count": 56,
   "id": "6ae924d4-94ec-4e23-a921-ae43140b6624",
   "metadata": {},
   "outputs": [],
   "source": [
    "def check_pal():\n",
    "    \n",
    "    string = input('Enter something')\n",
    "    if string == string[::-1]:\n",
    "        print(f'{string} is a palindrome')\n",
    "    else:\n",
    "        print(f'{string} is not a palindrome')\n",
    "    "
   ]
  },
  {
   "cell_type": "code",
   "execution_count": 57,
   "id": "8fb743c0-b942-485e-81f0-335e42942291",
   "metadata": {},
   "outputs": [
    {
     "name": "stdin",
     "output_type": "stream",
     "text": [
      "Enter something abcd\n"
     ]
    },
    {
     "name": "stdout",
     "output_type": "stream",
     "text": [
      "abcd is not a palindrome\n"
     ]
    }
   ],
   "source": [
    "check_pal()"
   ]
  },
  {
   "cell_type": "code",
   "execution_count": 58,
   "id": "40f4066c-c754-40ed-bc6e-14280f48d3c5",
   "metadata": {},
   "outputs": [
    {
     "name": "stdin",
     "output_type": "stream",
     "text": [
      "Enter something 12321\n"
     ]
    },
    {
     "name": "stdout",
     "output_type": "stream",
     "text": [
      "12321 is a palindrome\n"
     ]
    }
   ],
   "source": [
    "check_pal()"
   ]
  },
  {
   "cell_type": "markdown",
   "id": "2b618fad-e4e0-41f6-aa4d-8f06ac65a8d9",
   "metadata": {},
   "source": [
    "10. Write a Python program to calculate the grade based on a student's score."
   ]
  },
  {
   "cell_type": "code",
   "execution_count": 60,
   "id": "fcee4248-b9f2-4c79-952b-904817611314",
   "metadata": {},
   "outputs": [],
   "source": [
    "def grade():\n",
    "    \n",
    "    try:\n",
    "        marks = int(input('Enter Marks'))\n",
    "    \n",
    "    except Exception:\n",
    "        print('You have not entered valid marks')\n",
    "        \n",
    "    else:\n",
    "        if marks>=90:\n",
    "            print('You have got an A+')\n",
    "        elif 80<=marks<90:\n",
    "            print('You have got an A')\n",
    "        elif 70<=marks<80:\n",
    "            print('You have got an B+')\n",
    "        elif 60<=marks<70:\n",
    "            print('You have got an B')\n",
    "        elif 50<=marks<60:\n",
    "            print('You have got an C+')\n",
    "        elif 40<=marks<50:\n",
    "            print('You have got an C')\n",
    "        elif 33<=marks<40:\n",
    "            print('You have got an D')\n",
    "        else:\n",
    "            print('You have failed and you got an F') "
   ]
  },
  {
   "cell_type": "code",
   "execution_count": 61,
   "id": "71428f1a-f1dc-4f24-9a4a-8aac47962d76",
   "metadata": {},
   "outputs": [
    {
     "name": "stdin",
     "output_type": "stream",
     "text": [
      "Enter Marks 43\n"
     ]
    },
    {
     "name": "stdout",
     "output_type": "stream",
     "text": [
      "You have got an C\n"
     ]
    }
   ],
   "source": [
    "grade()"
   ]
  },
  {
   "cell_type": "code",
   "execution_count": 62,
   "id": "5551f4e8-2bee-4888-b03e-db902ec0f635",
   "metadata": {},
   "outputs": [
    {
     "name": "stdin",
     "output_type": "stream",
     "text": [
      "Enter Marks 23\n"
     ]
    },
    {
     "name": "stdout",
     "output_type": "stream",
     "text": [
      "You have failed and you got an F\n"
     ]
    }
   ],
   "source": [
    "grade()"
   ]
  },
  {
   "cell_type": "code",
   "execution_count": 63,
   "id": "59c4ce63-f725-43a4-a3b9-f40a345f0f41",
   "metadata": {},
   "outputs": [
    {
     "name": "stdin",
     "output_type": "stream",
     "text": [
      "Enter Marks 33\n"
     ]
    },
    {
     "name": "stdout",
     "output_type": "stream",
     "text": [
      "You have got an D\n"
     ]
    }
   ],
   "source": [
    "grade()"
   ]
  },
  {
   "cell_type": "code",
   "execution_count": 64,
   "id": "847f81d4-ea30-4edf-b3a3-645757dc967b",
   "metadata": {},
   "outputs": [
    {
     "name": "stdin",
     "output_type": "stream",
     "text": [
      "Enter Marks rw\n"
     ]
    },
    {
     "name": "stdout",
     "output_type": "stream",
     "text": [
      "You have not entered valid marks\n"
     ]
    }
   ],
   "source": [
    "grade()"
   ]
  },
  {
   "cell_type": "markdown",
   "id": "1ef9c029-5c6b-4503-9532-535fd811a674",
   "metadata": {},
   "source": [
    "\n",
    "## Nested If-Else Statements:\n",
    "\n"
   ]
  },
  {
   "cell_type": "markdown",
   "id": "09516aaf-2cd6-4013-8160-5d2e5c09450b",
   "metadata": {},
   "source": [
    "11. Write a program to find the largest among three numbers using nested if-else statements.\n"
   ]
  },
  {
   "cell_type": "code",
   "execution_count": 12,
   "id": "9a1cd007-e864-4645-bf7a-6b6449219380",
   "metadata": {},
   "outputs": [],
   "source": [
    "def find_max_nested():\n",
    "    \n",
    "    try:\n",
    "        a = int(input('Enter 1st num'))\n",
    "        b = int(input('Enter 2nd num'))\n",
    "        c = int(input('Enter 3rd num'))\n",
    "    except Exception:\n",
    "        print('You have not entered a num')\n",
    "        \n",
    "    else:\n",
    "        if a>=b:\n",
    "            if a>=c:\n",
    "                print(f'{a} is the largest')\n",
    "            else:\n",
    "                print(f'{c} is the largest')\n",
    "        elif b>=a:\n",
    "            if b>=c:\n",
    "                print(f'{b} is the largest')\n",
    "            else:\n",
    "                print(f'{c} is the largest')\n",
    "    finally:\n",
    "        print('Have a good day')\n",
    "            "
   ]
  },
  {
   "cell_type": "code",
   "execution_count": 13,
   "id": "4f64bac7-6375-4381-9065-82ec57753841",
   "metadata": {},
   "outputs": [
    {
     "name": "stdin",
     "output_type": "stream",
     "text": [
      "Enter 1st num 7\n",
      "Enter 2nd num 4\n",
      "Enter 3rd num 2\n"
     ]
    },
    {
     "name": "stdout",
     "output_type": "stream",
     "text": [
      "7 is the largest\n",
      "Have a good day\n"
     ]
    }
   ],
   "source": [
    "find_max_nested()"
   ]
  },
  {
   "cell_type": "markdown",
   "id": "9a7a6fc5-e4bb-4114-bbd5-531c4556eb93",
   "metadata": {},
   "source": [
    "12. Implement a program to determine if a triangle is equilateral, isosceles, or scalene.\n"
   ]
  },
  {
   "cell_type": "code",
   "execution_count": 22,
   "id": "5f13e007-f63a-420d-832d-c28108f072c0",
   "metadata": {},
   "outputs": [],
   "source": [
    "def triangle_type():\n",
    "    \n",
    "    try:\n",
    "        x = int(input('Enter the length of side 1'))\n",
    "        y = int(input('Enter the length of side 2'))\n",
    "        z = int(input('Enter the length of side 3'))\n",
    "    except Exception:\n",
    "        print('You have not entered valid length')\n",
    "    else:\n",
    "        if (x+y>z) and (y+z>x) and (x+z>y):\n",
    "            if x==y:\n",
    "                if x==z:\n",
    "                    print('The triangle is an equilateral triangle')\n",
    "                else:\n",
    "                    print('The triangle is an isosceles triangle')\n",
    "            elif y==z:\n",
    "                print('The triangle is an isosceles triangle')\n",
    "            elif x==z:\n",
    "                 print('The triangle is an isosceles triangle')\n",
    "            else:\n",
    "                print('The triangle is a scalene triangle')\n",
    "        else:\n",
    "            print(\"Entered dimensions can't form a triangle\")"
   ]
  },
  {
   "cell_type": "code",
   "execution_count": 25,
   "id": "014b409c-9d08-4eb8-9ad5-0be60843e969",
   "metadata": {},
   "outputs": [
    {
     "name": "stdin",
     "output_type": "stream",
     "text": [
      "Enter the length of side 1 4\n",
      "Enter the length of side 2 6\n",
      "Enter the length of side 3 6\n"
     ]
    },
    {
     "name": "stdout",
     "output_type": "stream",
     "text": [
      "The triangle is an isosceles triangle\n"
     ]
    }
   ],
   "source": [
    "triangle_type()"
   ]
  },
  {
   "cell_type": "markdown",
   "id": "122c76c1-7ebb-46b6-8961-894ef8f200c5",
   "metadata": {},
   "source": [
    "13. Develop a program that checks if a year is a leap year and also if it is a century year.\n"
   ]
  },
  {
   "cell_type": "code",
   "execution_count": 26,
   "id": "5e5311ac-ff61-4693-b340-950ebb483461",
   "metadata": {},
   "outputs": [],
   "source": [
    "def leap_year():\n",
    "    \n",
    "    try:\n",
    "        n = int(input('Enter an year'))\n",
    "    except Exception:\n",
    "        print('You have not entered a correct format of year')\n",
    "    else:\n",
    "        if n%400==0:\n",
    "            print(f'Year {n} is a leap year')\n",
    "        elif n%4 == 0:\n",
    "            if n%100 != 0:\n",
    "                print(f'Year {n} is a leap year')\n",
    "            else:\n",
    "                print(f'Year {n} is not a leap year')\n",
    "    finally:\n",
    "        print('Have a good day')\n",
    "        \n",
    "        "
   ]
  },
  {
   "cell_type": "code",
   "execution_count": 27,
   "id": "e9a8c7e6-7cb8-47f0-abff-1a64c6494d75",
   "metadata": {},
   "outputs": [
    {
     "name": "stdin",
     "output_type": "stream",
     "text": [
      "Enter an year 4\n"
     ]
    },
    {
     "name": "stdout",
     "output_type": "stream",
     "text": [
      "Year 4 is a leap year\n",
      "Have a good day\n"
     ]
    }
   ],
   "source": [
    "leap_year()"
   ]
  },
  {
   "cell_type": "code",
   "execution_count": 28,
   "id": "c3d616fa-93a8-4241-b9e3-22fa4f56ca27",
   "metadata": {},
   "outputs": [
    {
     "name": "stdin",
     "output_type": "stream",
     "text": [
      "Enter an year 100\n"
     ]
    },
    {
     "name": "stdout",
     "output_type": "stream",
     "text": [
      "Year 100 is not a leap year\n",
      "Have a good day\n"
     ]
    }
   ],
   "source": [
    "leap_year()"
   ]
  },
  {
   "cell_type": "code",
   "execution_count": 29,
   "id": "b3d7925a-cc9a-49fa-b7bb-78446b26a53c",
   "metadata": {},
   "outputs": [
    {
     "name": "stdin",
     "output_type": "stream",
     "text": [
      "Enter an year 1600\n"
     ]
    },
    {
     "name": "stdout",
     "output_type": "stream",
     "text": [
      "Year 1600 is a leap year\n",
      "Have a good day\n"
     ]
    }
   ],
   "source": [
    "leap_year()"
   ]
  },
  {
   "cell_type": "markdown",
   "id": "51f7f645-e980-49c8-af1a-a517f68d0845",
   "metadata": {},
   "source": [
    "14. Write a Python script to determine if a number is positive, negative, or zero."
   ]
  },
  {
   "cell_type": "code",
   "execution_count": 30,
   "id": "1c456aab-ae51-49b0-b916-6cea4549421d",
   "metadata": {},
   "outputs": [],
   "source": [
    "def checknum():\n",
    "    \n",
    "    try:\n",
    "        \n",
    "        n = int(input('Enter a number'))\n",
    "        if n>0:\n",
    "            print(f'the number {n} is positive')\n",
    "        elif n == 0:\n",
    "            print(f'the number {n} is neither positive nor negative')\n",
    "        else:\n",
    "            print(f' the number {n} is a negative')\n",
    "    \n",
    "    except Exception as e:\n",
    "        print(e)\n",
    "            "
   ]
  },
  {
   "cell_type": "code",
   "execution_count": 31,
   "id": "a90eb14b-c9b7-4cd3-9d73-190d979dcf47",
   "metadata": {},
   "outputs": [
    {
     "name": "stdin",
     "output_type": "stream",
     "text": [
      "Enter a number 5\n"
     ]
    },
    {
     "name": "stdout",
     "output_type": "stream",
     "text": [
      "the number 5 is positive\n"
     ]
    }
   ],
   "source": [
    "checknum()"
   ]
  },
  {
   "cell_type": "code",
   "execution_count": 32,
   "id": "151653bd-7c2a-41b9-8dbe-1ae671914357",
   "metadata": {},
   "outputs": [
    {
     "name": "stdin",
     "output_type": "stream",
     "text": [
      "Enter a number 0\n"
     ]
    },
    {
     "name": "stdout",
     "output_type": "stream",
     "text": [
      "the number 0 is neither positive nor negative\n"
     ]
    }
   ],
   "source": [
    "checknum()"
   ]
  },
  {
   "cell_type": "code",
   "execution_count": 33,
   "id": "017c6a74-0fe4-40e9-a96f-5373ad59811d",
   "metadata": {},
   "outputs": [
    {
     "name": "stdin",
     "output_type": "stream",
     "text": [
      "Enter a number -8\n"
     ]
    },
    {
     "name": "stdout",
     "output_type": "stream",
     "text": [
      " the number -8 is a negative\n"
     ]
    }
   ],
   "source": [
    "checknum()"
   ]
  },
  {
   "cell_type": "markdown",
   "id": "dcace7d5-7624-43e2-8236-ad41b6144505",
   "metadata": {},
   "source": [
    "15. Create a program to check if a person is a teenager (between 13 and 19 years old).\n"
   ]
  },
  {
   "cell_type": "code",
   "execution_count": 38,
   "id": "d4e677dd-5bce-4c5e-958a-af09b7b420e5",
   "metadata": {},
   "outputs": [],
   "source": [
    "def check_teen():\n",
    "    \n",
    "    try:\n",
    "        n = int(input('Enter age'))\n",
    "    except:\n",
    "        print('Enter valid age, a num')\n",
    "    else: \n",
    "        if n>=13:\n",
    "            if n<=19:\n",
    "                print(f'The person is a teenager')\n",
    "        else:\n",
    "            print('The person is not a teenager')"
   ]
  },
  {
   "cell_type": "code",
   "execution_count": 39,
   "id": "16984be0-93a8-4427-bebd-91f2fca4eff7",
   "metadata": {},
   "outputs": [
    {
     "name": "stdin",
     "output_type": "stream",
     "text": [
      "Enter age 4\n"
     ]
    },
    {
     "name": "stdout",
     "output_type": "stream",
     "text": [
      "The person is not a teenager\n"
     ]
    }
   ],
   "source": [
    "check_teen()"
   ]
  },
  {
   "cell_type": "code",
   "execution_count": 40,
   "id": "1d820ace-3f5d-4450-b598-01f53e829405",
   "metadata": {},
   "outputs": [
    {
     "name": "stdin",
     "output_type": "stream",
     "text": [
      "Enter age 16\n"
     ]
    },
    {
     "name": "stdout",
     "output_type": "stream",
     "text": [
      "The person is a teenager\n"
     ]
    }
   ],
   "source": [
    "check_teen()"
   ]
  },
  {
   "cell_type": "code",
   "execution_count": 41,
   "id": "96c7f400-2aa9-4770-88f4-67fd5750b7a6",
   "metadata": {},
   "outputs": [
    {
     "name": "stdin",
     "output_type": "stream",
     "text": [
      "Enter age dass\n"
     ]
    },
    {
     "name": "stdout",
     "output_type": "stream",
     "text": [
      "Enter valid age, a num\n"
     ]
    }
   ],
   "source": [
    "check_teen()"
   ]
  },
  {
   "cell_type": "markdown",
   "id": "ff88b5cf-4dde-4d99-817c-af36eab5df17",
   "metadata": {},
   "source": [
    "16. Develop a program that determines the type of angle based on its measure (acute, obtuse, or right).\n"
   ]
  },
  {
   "cell_type": "code",
   "execution_count": 42,
   "id": "a0cbe46a-df1c-49ad-8f93-f7d924130399",
   "metadata": {},
   "outputs": [],
   "source": [
    "def angle_type():\n",
    "    \n",
    "    try: \n",
    "        a = float(input('Enter angle'))\n",
    "    except:\n",
    "        print('Enter a valid angle, a number')\n",
    "    else:\n",
    "        if 0<=a<90:\n",
    "            print('The angle is acute angle')\n",
    "        elif a==90:\n",
    "            print('The angle is right angle')\n",
    "        elif 90<a<180:\n",
    "            print('The angle is obtuse angle')\n",
    "        else:\n",
    "            print('Out of bound angle')\n",
    "        "
   ]
  },
  {
   "cell_type": "code",
   "execution_count": 43,
   "id": "12f799d3-2fd0-4df2-8524-7cae2414f882",
   "metadata": {},
   "outputs": [
    {
     "name": "stdin",
     "output_type": "stream",
     "text": [
      "Enter angle 45\n"
     ]
    },
    {
     "name": "stdout",
     "output_type": "stream",
     "text": [
      "The angle is acute angle\n"
     ]
    }
   ],
   "source": [
    "angle_type()"
   ]
  },
  {
   "cell_type": "code",
   "execution_count": 44,
   "id": "701b14c3-6162-4b26-be33-e82363023e1d",
   "metadata": {},
   "outputs": [
    {
     "name": "stdin",
     "output_type": "stream",
     "text": [
      "Enter angle 90\n"
     ]
    },
    {
     "name": "stdout",
     "output_type": "stream",
     "text": [
      "The angle is right angle\n"
     ]
    }
   ],
   "source": [
    "angle_type()"
   ]
  },
  {
   "cell_type": "code",
   "execution_count": 45,
   "id": "18ce9ee1-763a-410d-aecb-4435596fba44",
   "metadata": {},
   "outputs": [
    {
     "name": "stdin",
     "output_type": "stream",
     "text": [
      "Enter angle 127\n"
     ]
    },
    {
     "name": "stdout",
     "output_type": "stream",
     "text": [
      "The angle is obtuse angle\n"
     ]
    }
   ],
   "source": [
    "angle_type()"
   ]
  },
  {
   "cell_type": "code",
   "execution_count": 46,
   "id": "3774f83b-794a-4866-b418-8f282e1ea969",
   "metadata": {},
   "outputs": [
    {
     "name": "stdin",
     "output_type": "stream",
     "text": [
      "Enter angle 181\n"
     ]
    },
    {
     "name": "stdout",
     "output_type": "stream",
     "text": [
      "Out of bound angle\n"
     ]
    }
   ],
   "source": [
    "angle_type()"
   ]
  },
  {
   "cell_type": "code",
   "execution_count": 47,
   "id": "45b0b3ba-a4f8-4c95-a4fe-e611f8df4380",
   "metadata": {},
   "outputs": [
    {
     "name": "stdin",
     "output_type": "stream",
     "text": [
      "Enter angle sda42\n"
     ]
    },
    {
     "name": "stdout",
     "output_type": "stream",
     "text": [
      "Enter a valid angle, a number\n"
     ]
    }
   ],
   "source": [
    "angle_type()"
   ]
  },
  {
   "cell_type": "markdown",
   "id": "bd917da7-4852-4dd0-814d-7784249f8686",
   "metadata": {},
   "source": [
    "17. Write a Python program to calculate the roots of a quadratic equation.\n"
   ]
  },
  {
   "cell_type": "code",
   "execution_count": 1,
   "id": "83e419db-14b9-4ea0-a5ee-ffabb3863ada",
   "metadata": {},
   "outputs": [],
   "source": [
    "def roots():\n",
    "    \n",
    "    try:\n",
    "        a = int(input('Enter the coefficient of x^2'))\n",
    "        b = int(input('Enter the coefficient of x'))\n",
    "        c = int(input('Enter the constant'))\n",
    "    except:\n",
    "        print('Enter valid inputs, a num')\n",
    "    \n",
    "    else:\n",
    "        d = b**2 - 4*a*c\n",
    "        if d<0:\n",
    "            print('No real roots')\n",
    "        elif d==0:\n",
    "            x = (-b)/(2*a)\n",
    "            print(f'The roots are equal {x} and {x}')\n",
    "        else:\n",
    "            x = (-b+(d)**(0.5))/(2*a)\n",
    "            y = (-b-(d)**(0.5))/(2*a)\n",
    "            print(f'The roots are {x} and {y}')"
   ]
  },
  {
   "cell_type": "code",
   "execution_count": 56,
   "id": "a9ac9c5d-28c0-42a0-8730-8b0d822477aa",
   "metadata": {},
   "outputs": [
    {
     "name": "stdin",
     "output_type": "stream",
     "text": [
      "Enter the coefficient of x^2 1\n",
      "Enter the coefficient of x 2\n",
      "Enter the constant 1\n"
     ]
    },
    {
     "name": "stdout",
     "output_type": "stream",
     "text": [
      "The roots are equal -1.0 and -1.0\n"
     ]
    }
   ],
   "source": [
    "roots()"
   ]
  },
  {
   "cell_type": "code",
   "execution_count": 2,
   "id": "8a181d51-297a-4403-a710-b06847cb4ee5",
   "metadata": {},
   "outputs": [
    {
     "name": "stdin",
     "output_type": "stream",
     "text": [
      "Enter the coefficient of x^2 1\n",
      "Enter the coefficient of x 4\n",
      "Enter the constant 16\n"
     ]
    },
    {
     "name": "stdout",
     "output_type": "stream",
     "text": [
      "No real roots\n"
     ]
    }
   ],
   "source": [
    "roots()"
   ]
  },
  {
   "cell_type": "code",
   "execution_count": 3,
   "id": "ad7254fa-1afb-40ce-bcbb-e932a896587d",
   "metadata": {},
   "outputs": [
    {
     "name": "stdin",
     "output_type": "stream",
     "text": [
      "Enter the coefficient of x^2 2\n",
      "Enter the coefficient of x 6\n",
      "Enter the constant 4\n"
     ]
    },
    {
     "name": "stdout",
     "output_type": "stream",
     "text": [
      "The roots are -1.0 and -2.0\n"
     ]
    }
   ],
   "source": [
    "roots()"
   ]
  },
  {
   "cell_type": "markdown",
   "id": "bed600f7-8d13-4e0e-9b06-2b29318bcb32",
   "metadata": {},
   "source": [
    "8. Implement a program to determine the day of the week based on a user-provided number (1 for Monday, 2 for Tuesday, etc.)."
   ]
  },
  {
   "cell_type": "code",
   "execution_count": 10,
   "id": "1006e456-6b31-4396-a42f-dcab947543ac",
   "metadata": {},
   "outputs": [],
   "source": [
    "def dayoftheweek():\n",
    "    day = {1:\"Monday\",2:\"Tuesday\",3:\"Wednesday\",4:\"Thursday\", 5:\"Friday\", 6:\"Saturday\", 7:\"Sunday\"}\n",
    "    try:\n",
    "        n = int(input(\"Enter n between 1 and 7\"))\n",
    "    except:\n",
    "        if n<=0 or n>=7:\n",
    "            print(\"Enter n between 1 and 7\")\n",
    "        else:\n",
    "            print('Enter a valid input between 1 and 7')\n",
    "    else:\n",
    "        return day[n]"
   ]
  },
  {
   "cell_type": "code",
   "execution_count": 11,
   "id": "bb720d56-3802-40b4-ab56-1dba040dbb75",
   "metadata": {},
   "outputs": [
    {
     "name": "stdin",
     "output_type": "stream",
     "text": [
      "Enter n between 1 and 7 5\n"
     ]
    },
    {
     "data": {
      "text/plain": [
       "'Friday'"
      ]
     },
     "execution_count": 11,
     "metadata": {},
     "output_type": "execute_result"
    }
   ],
   "source": [
    "dayoftheweek()"
   ]
  },
  {
   "cell_type": "code",
   "execution_count": 2,
   "id": "ee8d9189-caec-4cce-b0a4-eca8d407b09f",
   "metadata": {},
   "outputs": [
    {
     "data": {
      "text/plain": [
       "'Tuesday'"
      ]
     },
     "execution_count": 2,
     "metadata": {},
     "output_type": "execute_result"
    }
   ],
   "source": [
    "day[2]"
   ]
  },
  {
   "cell_type": "markdown",
   "id": "f5b9c7e8-4c4b-4abd-a620-cee9937bcdb8",
   "metadata": {},
   "source": [
    "19. Create a program that determines if a year is a leap year and also if it is evenly divisible by 400.\n"
   ]
  },
  {
   "cell_type": "code",
   "execution_count": 6,
   "id": "a7f68b20-83de-4719-98ec-38886a1f128f",
   "metadata": {},
   "outputs": [],
   "source": [
    "def leap_year():\n",
    "    \n",
    "    try:\n",
    "        n = int(input('Enter an year'))\n",
    "    except Exception:\n",
    "        print('You have not entered a correct format of year')\n",
    "    else:\n",
    "        if n%400==0:\n",
    "            print(f'Year {n} is a leap year')\n",
    "        elif n%4 == 0:\n",
    "            if n%100 != 0:\n",
    "                print(f'Year {n} is a leap year')\n",
    "            else:\n",
    "                print(f'Year {n} is not a leap year')\n",
    "    finally:\n",
    "        print('Have a good day')\n",
    "        \n",
    "        "
   ]
  },
  {
   "cell_type": "markdown",
   "id": "cd437cb2-7e64-4ae0-b8ac-b40138237bd4",
   "metadata": {},
   "source": [
    "20. Develop a program that checks if a given number is prime or not using nested if-else statements."
   ]
  },
  {
   "cell_type": "code",
   "execution_count": 17,
   "id": "fe85ee0b-fd03-430e-aa64-3f4fb9fcbcb8",
   "metadata": {},
   "outputs": [],
   "source": [
    "def checkprime():\n",
    "    \n",
    "    n = int(input(\"Enter a Number\"))\n",
    "    count =0\n",
    "    for i in range(1,n+1):\n",
    "        if n%i==0:\n",
    "            count+=1\n",
    "        else:\n",
    "            continue\n",
    "    if count>2:\n",
    "        return f'{n} is not a prime'\n",
    "    return f'{n} is a prime'\n",
    "        "
   ]
  },
  {
   "cell_type": "code",
   "execution_count": 23,
   "id": "86f7024c-3f6c-48a6-9973-727dca674d97",
   "metadata": {},
   "outputs": [
    {
     "name": "stdin",
     "output_type": "stream",
     "text": [
      "Enter a Number 21\n"
     ]
    },
    {
     "data": {
      "text/plain": [
       "'21 is not a prime'"
      ]
     },
     "execution_count": 23,
     "metadata": {},
     "output_type": "execute_result"
    }
   ],
   "source": [
    "checkprime()"
   ]
  },
  {
   "cell_type": "markdown",
   "id": "ed8d256c-1651-4c30-bcf7-a2dc965cc8a6",
   "metadata": {},
   "source": [
    "## Elif Statements:"
   ]
  },
  {
   "cell_type": "markdown",
   "id": "c3fe1810-9257-4c40-92b4-3daf26db8bbb",
   "metadata": {},
   "source": [
    "21. Write a Python program to assign grades based on different ranges of scores using elif statements.\n"
   ]
  },
  {
   "cell_type": "code",
   "execution_count": 24,
   "id": "639c4581-329d-4f6b-b216-6d52d2178cd4",
   "metadata": {},
   "outputs": [],
   "source": [
    "def grade():\n",
    "    \n",
    "    try:\n",
    "        marks = int(input('Enter Marks'))\n",
    "    \n",
    "    except Exception:\n",
    "        print('You have not entered valid marks')\n",
    "        \n",
    "    else:\n",
    "        if marks>=90:\n",
    "            print('You have got an A+')\n",
    "        elif 80<=marks<90:\n",
    "            print('You have got an A')\n",
    "        elif 70<=marks<80:\n",
    "            print('You have got an B+')\n",
    "        elif 60<=marks<70:\n",
    "            print('You have got an B')\n",
    "        elif 50<=marks<60:\n",
    "            print('You have got an C+')\n",
    "        elif 40<=marks<50:\n",
    "            print('You have got an C')\n",
    "        elif 33<=marks<40:\n",
    "            print('You have got an D')\n",
    "        else:\n",
    "            print('You have failed and you got an F') "
   ]
  },
  {
   "cell_type": "markdown",
   "id": "0f1a9af4-4a27-4cee-bae7-7fa923f3121b",
   "metadata": {},
   "source": [
    "22. Implement a program to determine the type of a triangle based on its angles.\n"
   ]
  },
  {
   "cell_type": "code",
   "execution_count": 25,
   "id": "9f246eca-48e2-4d93-88ce-0ab3048526af",
   "metadata": {},
   "outputs": [],
   "source": [
    "def angle_type():\n",
    "    \n",
    "    try: \n",
    "        a = float(input('Enter angle'))\n",
    "    except:\n",
    "        print('Enter a valid angle, a number')\n",
    "    else:\n",
    "        if 0<=a<90:\n",
    "            print('The angle is acute angle')\n",
    "        elif a==90:\n",
    "            print('The angle is right angle')\n",
    "        elif 90<a<180:\n",
    "            print('The angle is obtuse angle')\n",
    "        else:\n",
    "            print('Out of bound angle')\n",
    "        "
   ]
  },
  {
   "cell_type": "markdown",
   "id": "9b2374d8-0301-4a9e-9684-73c40b46e9e9",
   "metadata": {},
   "source": [
    "23. Develop a program to categorize a given person's BMI into underweight, normal, overweight, or obese using elif statements.\n"
   ]
  },
  {
   "cell_type": "code",
   "execution_count": 26,
   "id": "41c7b719-444e-4de4-99fb-88799162436a",
   "metadata": {},
   "outputs": [],
   "source": [
    "def check_bmi():\n",
    "    bmi = int(input(\"enter BMI\"))\n",
    "    if bmi<20:\n",
    "        return 'person is underweight'\n",
    "    elif 20<=bmi<25:\n",
    "        return 'person is normal'\n",
    "    elif 25<=bmi<30:\n",
    "        return 'person is overweight'\n",
    "    else:\n",
    "        return 'person is obese'\n",
    "              "
   ]
  },
  {
   "cell_type": "code",
   "execution_count": 28,
   "id": "97e300d2-384b-4f63-b720-536165fc082b",
   "metadata": {},
   "outputs": [
    {
     "name": "stdin",
     "output_type": "stream",
     "text": [
      "enter BMI 20\n"
     ]
    },
    {
     "data": {
      "text/plain": [
       "'person is normal'"
      ]
     },
     "execution_count": 28,
     "metadata": {},
     "output_type": "execute_result"
    }
   ],
   "source": [
    "check_bmi()"
   ]
  },
  {
   "cell_type": "markdown",
   "id": "8efa13f8-6536-4d41-a7c2-89dd9abf10ac",
   "metadata": {},
   "source": [
    "24. Create a program that determines whether a given number is positive, negative, or zero using elif statements.\n"
   ]
  },
  {
   "cell_type": "code",
   "execution_count": 29,
   "id": "2fb505bb-6b3e-4248-96b7-5065d3754e16",
   "metadata": {},
   "outputs": [],
   "source": [
    "def checknum():\n",
    "    n = int(input('Enter any number'))\n",
    "    \n",
    "    if n==0:\n",
    "        return 'Number is zero'\n",
    "    elif n>0:\n",
    "        return 'number is positive'\n",
    "    else:\n",
    "        return 'number is negative'"
   ]
  },
  {
   "cell_type": "code",
   "execution_count": 31,
   "id": "3c3979f9-0e63-4eda-a424-3c1dc61e0a14",
   "metadata": {},
   "outputs": [
    {
     "name": "stdin",
     "output_type": "stream",
     "text": [
      "Enter any number -9\n"
     ]
    },
    {
     "data": {
      "text/plain": [
       "'number is negative'"
      ]
     },
     "execution_count": 31,
     "metadata": {},
     "output_type": "execute_result"
    }
   ],
   "source": [
    "checknum()"
   ]
  },
  {
   "cell_type": "markdown",
   "id": "555cac4d-9da1-4c5d-a1b4-93ddb7b722d3",
   "metadata": {},
   "source": [
    "25. Write a Python script to determine the type of a character (uppercase, lowercase, or special) using elif statements.\n"
   ]
  },
  {
   "cell_type": "code",
   "execution_count": 34,
   "id": "9806ce10-bc71-4375-91a0-4ef9e12170ac",
   "metadata": {},
   "outputs": [],
   "source": [
    "def check_char():\n",
    "    c = input('Enter any character')\n",
    "    if c == c.upper():\n",
    "        return 'Uppercase'\n",
    "    elif c==c.lower():\n",
    "        return 'lowercase'\n",
    "    else:\n",
    "        return 'special char'"
   ]
  },
  {
   "cell_type": "code",
   "execution_count": 35,
   "id": "24b569ae-0d70-483a-9845-83ca98845b43",
   "metadata": {},
   "outputs": [
    {
     "name": "stdin",
     "output_type": "stream",
     "text": [
      "Enter any character b\n"
     ]
    },
    {
     "data": {
      "text/plain": [
       "'lowercase'"
      ]
     },
     "execution_count": 35,
     "metadata": {},
     "output_type": "execute_result"
    }
   ],
   "source": [
    "check_char()"
   ]
  },
  {
   "cell_type": "markdown",
   "id": "1673ea49-c269-4bff-8439-a92ccc781df1",
   "metadata": {},
   "source": [
    "26. Implement a program to calculate the discounted price based on different purchase amounts using elif statements.\n"
   ]
  },
  {
   "cell_type": "code",
   "execution_count": 38,
   "id": "af5f1aa3-67df-48be-9237-b9155daad2a3",
   "metadata": {},
   "outputs": [],
   "source": [
    "def cal_discount_Price():\n",
    "    n = int(input('Enter MRP'))\n",
    "    if 99<n<500:\n",
    "        result = n*0.85\n",
    "        return f' inal price is {result}'\n",
    "    elif 499<n<1000:\n",
    "        result = n*0.7\n",
    "        return f'final price is {result}'\n",
    "    elif n>=1000:\n",
    "        result = n*0.6\n",
    "        return f'final price is {result}'\n",
    "    else:\n",
    "        return 'no discount'"
   ]
  },
  {
   "cell_type": "code",
   "execution_count": 39,
   "id": "95164ccc-f35b-46dd-8e56-d0c3c1f30ecf",
   "metadata": {},
   "outputs": [
    {
     "name": "stdin",
     "output_type": "stream",
     "text": [
      "Enter MRP 1000\n"
     ]
    },
    {
     "data": {
      "text/plain": [
       "'final price is 600.0'"
      ]
     },
     "execution_count": 39,
     "metadata": {},
     "output_type": "execute_result"
    }
   ],
   "source": [
    "cal_discount_Price()"
   ]
  },
  {
   "cell_type": "markdown",
   "id": "5265163d-1553-473c-9cd2-d3f9372882ac",
   "metadata": {},
   "source": [
    "27. Develop a program to calculate the electricity bill based on different consumption slabs using elif statements.\n"
   ]
  },
  {
   "cell_type": "code",
   "execution_count": 43,
   "id": "d604e4f6-4478-4daf-8c89-90c75bfa5b25",
   "metadata": {},
   "outputs": [],
   "source": [
    "def cal_Bill():\n",
    "    n = int(input('Enter units'))\n",
    "    if 99<n<500:\n",
    "        result = n*1.25\n",
    "        return f' final price is {result}'\n",
    "    elif 499<n<1000:\n",
    "        result = n*1.5\n",
    "        return f'final price is {result}'\n",
    "    elif n>=1000:\n",
    "        result = n*2\n",
    "        return f'final price is {result}'\n",
    "    else:\n",
    "        return n"
   ]
  },
  {
   "cell_type": "code",
   "execution_count": 44,
   "id": "08e5fec8-ae26-433c-b668-35e246e689f0",
   "metadata": {},
   "outputs": [
    {
     "name": "stdin",
     "output_type": "stream",
     "text": [
      "Enter units 2\n"
     ]
    },
    {
     "data": {
      "text/plain": [
       "2"
      ]
     },
     "execution_count": 44,
     "metadata": {},
     "output_type": "execute_result"
    }
   ],
   "source": [
    "cal_Bill()"
   ]
  },
  {
   "cell_type": "markdown",
   "id": "c97b1321-2327-44fa-9947-03a460709939",
   "metadata": {},
   "source": [
    "28. Create a program to determine the type of quadrilateral based on its angles and sides using elif statements."
   ]
  },
  {
   "cell_type": "code",
   "execution_count": 48,
   "id": "640390cf-59b1-40e0-89b5-b33cae706824",
   "metadata": {},
   "outputs": [],
   "source": [
    "def check_quadrilateral(sumofangles,angle,sides):\n",
    "    if sumofangles == 360:\n",
    "        if angle == 90:\n",
    "            if sides == 'equal':\n",
    "                return 'square'\n",
    "            elif side == 'unequal':\n",
    "                return 'Rectangle'\n",
    "        return 'quadrilateral'\n",
    "    return 'not a quadrilateral'"
   ]
  },
  {
   "cell_type": "code",
   "execution_count": 49,
   "id": "189b6acb-2786-41f9-a00a-cb6c1e099c9b",
   "metadata": {},
   "outputs": [
    {
     "data": {
      "text/plain": [
       "'square'"
      ]
     },
     "execution_count": 49,
     "metadata": {},
     "output_type": "execute_result"
    }
   ],
   "source": [
    "check_quadrilateral(360,90,'equal')"
   ]
  },
  {
   "cell_type": "markdown",
   "id": "5ad3d2fb-54ad-47e2-9f80-3365b34ad23e",
   "metadata": {},
   "source": [
    "29. Write a Python script to determine the season based on a user-provided month using elif statements.\n"
   ]
  },
  {
   "cell_type": "code",
   "execution_count": 6,
   "id": "b8a4cf97-cc22-4ba1-9dcc-41d47c138f02",
   "metadata": {},
   "outputs": [],
   "source": [
    "def check_season():\n",
    "    try:\n",
    "        x = int(input('Enter month between 1 and 12'))\n",
    "    except:\n",
    "            print('Enter num between 1-12')\n",
    "    else:\n",
    "        season = {1:'Winter', 2:'Winter', 3: 'Winter', 4: 'Winter', 5: 'Summer', 6: 'Summer', 7: 'Summer', 8: 'Summer', 9: 'Rainy', 10: 'Rainy', 11: 'Rainy', 12:'Rainy'}\n",
    "        print(season[x])\n",
    "    "
   ]
  },
  {
   "cell_type": "code",
   "execution_count": 7,
   "id": "66250587-f9f3-405d-81c2-33e4a3294f94",
   "metadata": {},
   "outputs": [
    {
     "name": "stdin",
     "output_type": "stream",
     "text": [
      "Enter month between 1 and 12 r\n"
     ]
    },
    {
     "name": "stdout",
     "output_type": "stream",
     "text": [
      "Enter num between 1-12\n"
     ]
    }
   ],
   "source": [
    "check_season()"
   ]
  },
  {
   "cell_type": "markdown",
   "id": "a593ec19-08ee-4b2d-8940-3e0abf52d5d0",
   "metadata": {},
   "source": [
    "30. Implement a program to determine the type of a year (leap or common) and month (30 or 31 days) using elif statements.\n"
   ]
  },
  {
   "cell_type": "code",
   "execution_count": 8,
   "id": "48322d63-e565-4ea1-ad2d-960a06add7b6",
   "metadata": {},
   "outputs": [],
   "source": [
    "def leap():\n",
    "    \n",
    "    try:\n",
    "        n = int(input('Enter an year'))\n",
    "    except Exception:\n",
    "        print('You have not entered a correct format of year')\n",
    "    else:\n",
    "        if n%400==0:\n",
    "            print(f'Year {n} is a leap year')\n",
    "        elif n%4 == 0 and n%100 != 0:\n",
    "            print(f'Year {n} is a leap year')\n",
    "        else:\n",
    "            print(f'Year {n} is not a leap year')\n",
    "    finally:\n",
    "        print('Have a good day')\n",
    "        "
   ]
  },
  {
   "cell_type": "code",
   "execution_count": null,
   "id": "b8335363-bfde-4cd8-9882-b40085c592f9",
   "metadata": {},
   "outputs": [],
   "source": []
  }
 ],
 "metadata": {
  "kernelspec": {
   "display_name": "Python 3 (ipykernel)",
   "language": "python",
   "name": "python3"
  },
  "language_info": {
   "codemirror_mode": {
    "name": "ipython",
    "version": 3
   },
   "file_extension": ".py",
   "mimetype": "text/x-python",
   "name": "python",
   "nbconvert_exporter": "python",
   "pygments_lexer": "ipython3",
   "version": "3.10.8"
  }
 },
 "nbformat": 4,
 "nbformat_minor": 5
}
